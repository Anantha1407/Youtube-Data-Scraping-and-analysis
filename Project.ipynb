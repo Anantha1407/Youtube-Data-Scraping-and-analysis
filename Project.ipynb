{
 "cells": [
  {
   "cell_type": "code",
   "execution_count": 1,
   "metadata": {},
   "outputs": [
    {
     "name": "stdout",
     "output_type": "stream",
     "text": [
      "Trending videos saved to trending_videos.csv\n"
     ]
    }
   ],
   "source": [
    "import pandas as pd\n",
    "from googleapiclient.discovery import build\n",
    "from dotenv import load_dotenv\n",
    "import os\n",
    "load_dotenv()\n",
    "# replace with your own API key\n",
    "API_KEY = os.getenv('API_KEY')\n",
    "\n",
    "def get_trending_videos(api_key, max_results=200):\n",
    "    # build the youtube service\n",
    "    youtube = build('youtube', 'v3', developerKey=api_key)\n",
    "\n",
    "    # initialize the list to hold video details\n",
    "    videos = []\n",
    "\n",
    "    # fetch the most popular videos\n",
    "    request = youtube.videos().list(\n",
    "        part='snippet,contentDetails,statistics',\n",
    "        chart='mostPopular',\n",
    "        regionCode='IN',  \n",
    "        maxResults=50\n",
    "    )\n",
    "\n",
    "    # paginate through the results if max_results > 50\n",
    "    while request and len(videos) < max_results:\n",
    "        response = request.execute()\n",
    "        for item in response['items']:\n",
    "            video_details = {\n",
    "                'video_id': item['id'],\n",
    "                'title': item['snippet']['title'],\n",
    "                'description': item['snippet']['description'],\n",
    "                'published_at': item['snippet']['publishedAt'],\n",
    "                'channel_id': item['snippet']['channelId'],\n",
    "                'channel_title': item['snippet']['channelTitle'],\n",
    "                'category_id': item['snippet']['categoryId'],\n",
    "                'category_name' : item['snippet']['title'],\n",
    "                'tags': item['snippet'].get('tags', []),\n",
    "                'duration': item['contentDetails']['duration'],\n",
    "                'definition': item['contentDetails']['definition'],\n",
    "                'caption': item['contentDetails'].get('caption', 'false'),\n",
    "                'view_count': item['statistics'].get('viewCount', 0),\n",
    "                'like_count': item['statistics'].get('likeCount', 0),\n",
    "                'dislike_count': item['statistics'].get('dislikeCount', 0),\n",
    "                'favorite_count': item['statistics'].get('favoriteCount', 0),\n",
    "                'comment_count': item['statistics'].get('commentCount', 0)\n",
    "            }\n",
    "            videos.append(video_details)\n",
    "\n",
    "        # get the next page token\n",
    "        request = youtube.videos().list_next(request, response)\n",
    "\n",
    "    return videos[:max_results]\n",
    "\n",
    "def save_to_csv(data, filename):\n",
    "    df = pd.DataFrame(data)\n",
    "    df.to_csv(filename, index=False)\n",
    "\n",
    "def main():\n",
    "    trending_videos = get_trending_videos(API_KEY)\n",
    "    filename = 'trending_videos.csv'\n",
    "    save_to_csv(trending_videos, filename)\n",
    "    print(f'Trending videos saved to {filename}')\n",
    "main()"
   ]
  },
  {
   "cell_type": "code",
   "execution_count": 2,
   "metadata": {},
   "outputs": [
    {
     "name": "stdout",
     "output_type": "stream",
     "text": [
      "      video_id                                              title  \\\n",
      "0  as86Klk5qUE  Tamilaga Vettri Kazhagam: Flag Anthem | தமிழக ...   \n",
      "1  h63m54WmLTM  Durability Test of Ather 450X - Will It Surviv...   \n",
      "2  2RCo2j7a1f4  TVK Flag | Actor Vijay Speech | Tamizhaga Vetr...   \n",
      "3  K7HdCZkf-bU  पटवारी PATWARI Part-1 | Uttar kumar new movie ...   \n",
      "4  81ktpexWqyI  पटवारी PATWARI Part-2 | Uttar kumar new movie ...   \n",
      "\n",
      "                                         description          published_at  \\\n",
      "0  #TVKFlagAnthem\\n#ThalaivarVijay \\n\\nநாடெங்கும்...  2024-08-22T04:06:48Z   \n",
      "1  SUBSCRIBE: https://youtube.com/MRINDIANHACKER?...  2024-08-22T07:30:14Z   \n",
      "2  #thalapathyvijayspeech #tvk #vijay #tvkflag #s...  2024-08-22T04:34:40Z   \n",
      "3  Banner - RAJLAXMI Movies\\n\\nFilm Title - Patwa...  2024-08-23T03:30:14Z   \n",
      "4  Banner - RAJLAXMI Movies\\n\\nFilm Title - Patwa...  2024-08-23T04:30:03Z   \n",
      "\n",
      "                 channel_id             channel_title  category_id  \\\n",
      "0  UCGZHc6wDJFjeNAAJhatSDXg  Tamilaga Vettri Kazhagam           24   \n",
      "1  UCSiDGb0MnHFGjs4E2WKvShw         MR. INDIAN HACKER           28   \n",
      "2  UCYlh4lH762HvHt6mmiecyWQ                  Sun News           25   \n",
      "3  UCq_7HCsiy115mre6OBH_dAQ                  Rajlaxmi            1   \n",
      "4  UCq_7HCsiy115mre6OBH_dAQ                  Rajlaxmi            1   \n",
      "\n",
      "                                       category_name  \\\n",
      "0  Tamilaga Vettri Kazhagam: Flag Anthem | தமிழக ...   \n",
      "1  Durability Test of Ather 450X - Will It Surviv...   \n",
      "2  TVK Flag | Actor Vijay Speech | Tamizhaga Vetr...   \n",
      "3  पटवारी PATWARI Part-1 | Uttar kumar new movie ...   \n",
      "4  पटवारी PATWARI Part-2 | Uttar kumar new movie ...   \n",
      "\n",
      "                                                tags  duration definition  \\\n",
      "0  ['thalapathy vijay', 'tvk', 'tvkflag', 'tvkfla...   PT4M25S         hd   \n",
      "1  ['mr indian hacker', 'ather', 'ather 450x', 'd...   PT11M7S         hd   \n",
      "2  ['sun news live', 'sun tv news', 'sun news tam...   PT3M56S         hd   \n",
      "3  ['rajlaxmi movies', 'dinesh chaudhary', 'new s...   PT43M1S         hd   \n",
      "4  ['rajlaxmi movies', 'dinesh chaudhary', 'new s...  PT47M36S         hd   \n",
      "\n",
      "   caption  view_count  like_count  dislike_count  favorite_count  \\\n",
      "0    False     3265097      353948              0               0   \n",
      "1    False     2187447      196446              0               0   \n",
      "2    False     1345577       36619              0               0   \n",
      "3    False     1233545       34425              0               0   \n",
      "4    False      715577       19469              0               0   \n",
      "\n",
      "   comment_count  \n",
      "0          10540  \n",
      "1          12445  \n",
      "2           1978  \n",
      "3           1970  \n",
      "4            944  \n"
     ]
    }
   ],
   "source": [
    "import pandas as pd\n",
    "\n",
    "trending_videos = pd.read_csv('trending_videos.csv')\n",
    "print(trending_videos.head())"
   ]
  },
  {
   "cell_type": "code",
   "execution_count": 3,
   "metadata": {},
   "outputs": [
    {
     "data": {
      "text/plain": [
       "(video_id          0\n",
       " title             0\n",
       " description       2\n",
       " published_at      0\n",
       " channel_id        0\n",
       " channel_title     0\n",
       " category_id       0\n",
       " category_name     0\n",
       " tags              0\n",
       " duration          0\n",
       " definition        0\n",
       " caption           0\n",
       " view_count        0\n",
       " like_count        0\n",
       " dislike_count     0\n",
       " favorite_count    0\n",
       " comment_count     0\n",
       " dtype: int64,\n",
       " video_id          object\n",
       " title             object\n",
       " description       object\n",
       " published_at      object\n",
       " channel_id        object\n",
       " channel_title     object\n",
       " category_id        int64\n",
       " category_name     object\n",
       " tags              object\n",
       " duration          object\n",
       " definition        object\n",
       " caption             bool\n",
       " view_count         int64\n",
       " like_count         int64\n",
       " dislike_count      int64\n",
       " favorite_count     int64\n",
       " comment_count      int64\n",
       " dtype: object)"
      ]
     },
     "execution_count": 3,
     "metadata": {},
     "output_type": "execute_result"
    }
   ],
   "source": [
    "# check for missing values\n",
    "missing_values = trending_videos.isnull().sum()\n",
    "\n",
    "# display data types\n",
    "data_types = trending_videos.dtypes\n",
    "\n",
    "missing_values, data_types"
   ]
  },
  {
   "cell_type": "code",
   "execution_count": 4,
   "metadata": {},
   "outputs": [],
   "source": [
    "# fill missing descriptions with \"No description\"\n",
    "trending_videos.fillna({'description': 'No description'}, inplace=True)\n",
    "\n",
    "# convert `published_at` to datetime\n",
    "trending_videos['published_at'] = pd.to_datetime(trending_videos['published_at'])\n",
    "\n",
    "# convert tags from string representation of list to actual list\n",
    "trending_videos['tags'] = trending_videos['tags'].apply(lambda x: eval(x) if isinstance(x, str) else x)"
   ]
  },
  {
   "cell_type": "code",
   "execution_count": 5,
   "metadata": {},
   "outputs": [
    {
     "data": {
      "text/html": [
       "<div>\n",
       "<style scoped>\n",
       "    .dataframe tbody tr th:only-of-type {\n",
       "        vertical-align: middle;\n",
       "    }\n",
       "\n",
       "    .dataframe tbody tr th {\n",
       "        vertical-align: top;\n",
       "    }\n",
       "\n",
       "    .dataframe thead th {\n",
       "        text-align: right;\n",
       "    }\n",
       "</style>\n",
       "<table border=\"1\" class=\"dataframe\">\n",
       "  <thead>\n",
       "    <tr style=\"text-align: right;\">\n",
       "      <th></th>\n",
       "      <th>view_count</th>\n",
       "      <th>like_count</th>\n",
       "      <th>dislike_count</th>\n",
       "      <th>comment_count</th>\n",
       "    </tr>\n",
       "  </thead>\n",
       "  <tbody>\n",
       "    <tr>\n",
       "      <th>count</th>\n",
       "      <td>1.400000e+02</td>\n",
       "      <td>1.400000e+02</td>\n",
       "      <td>140.0</td>\n",
       "      <td>140.000000</td>\n",
       "    </tr>\n",
       "    <tr>\n",
       "      <th>mean</th>\n",
       "      <td>2.469393e+06</td>\n",
       "      <td>9.870064e+04</td>\n",
       "      <td>0.0</td>\n",
       "      <td>3615.657143</td>\n",
       "    </tr>\n",
       "    <tr>\n",
       "      <th>std</th>\n",
       "      <td>8.220720e+06</td>\n",
       "      <td>3.246502e+05</td>\n",
       "      <td>0.0</td>\n",
       "      <td>8888.066366</td>\n",
       "    </tr>\n",
       "    <tr>\n",
       "      <th>min</th>\n",
       "      <td>7.484800e+04</td>\n",
       "      <td>0.000000e+00</td>\n",
       "      <td>0.0</td>\n",
       "      <td>6.000000</td>\n",
       "    </tr>\n",
       "    <tr>\n",
       "      <th>25%</th>\n",
       "      <td>4.038225e+05</td>\n",
       "      <td>8.400750e+03</td>\n",
       "      <td>0.0</td>\n",
       "      <td>250.750000</td>\n",
       "    </tr>\n",
       "    <tr>\n",
       "      <th>50%</th>\n",
       "      <td>6.835845e+05</td>\n",
       "      <td>2.150300e+04</td>\n",
       "      <td>0.0</td>\n",
       "      <td>831.000000</td>\n",
       "    </tr>\n",
       "    <tr>\n",
       "      <th>75%</th>\n",
       "      <td>1.846987e+06</td>\n",
       "      <td>7.012250e+04</td>\n",
       "      <td>0.0</td>\n",
       "      <td>2889.000000</td>\n",
       "    </tr>\n",
       "    <tr>\n",
       "      <th>max</th>\n",
       "      <td>8.454596e+07</td>\n",
       "      <td>3.454875e+06</td>\n",
       "      <td>0.0</td>\n",
       "      <td>62611.000000</td>\n",
       "    </tr>\n",
       "  </tbody>\n",
       "</table>\n",
       "</div>"
      ],
      "text/plain": [
       "         view_count    like_count  dislike_count  comment_count\n",
       "count  1.400000e+02  1.400000e+02          140.0     140.000000\n",
       "mean   2.469393e+06  9.870064e+04            0.0    3615.657143\n",
       "std    8.220720e+06  3.246502e+05            0.0    8888.066366\n",
       "min    7.484800e+04  0.000000e+00            0.0       6.000000\n",
       "25%    4.038225e+05  8.400750e+03            0.0     250.750000\n",
       "50%    6.835845e+05  2.150300e+04            0.0     831.000000\n",
       "75%    1.846987e+06  7.012250e+04            0.0    2889.000000\n",
       "max    8.454596e+07  3.454875e+06            0.0   62611.000000"
      ]
     },
     "execution_count": 5,
     "metadata": {},
     "output_type": "execute_result"
    }
   ],
   "source": [
    "# descriptive statistics\n",
    "descriptive_stats = trending_videos[['view_count', 'like_count', 'dislike_count', 'comment_count']].describe()\n",
    "\n",
    "descriptive_stats"
   ]
  },
  {
   "cell_type": "code",
   "execution_count": 6,
   "metadata": {},
   "outputs": [
    {
     "data": {
      "application/vnd.plotly.v1+json": {
       "config": {
        "plotlyServerURL": "https://plot.ly"
       },
       "data": [
        {
         "histnorm": "density",
         "marker": {
          "color": "blue"
         },
         "name": "View Count",
         "nbinsx": 30,
         "type": "histogram",
         "x": [
          3265097,
          2187447,
          1345577,
          1233545,
          715577,
          321486,
          1586633,
          1579111,
          1955356,
          1028205,
          44751816,
          524722,
          319115,
          366464,
          4121431,
          3217112,
          1446706,
          804904,
          18196672,
          597982,
          779597,
          950189,
          426731,
          493198,
          2257523,
          3503769,
          1297147,
          147529,
          1886775,
          993303,
          4165079,
          1474338,
          151141,
          225725,
          2529230,
          1103678,
          416921,
          74848,
          3117006,
          2852746,
          450368,
          188345,
          1055607,
          5782984,
          747623,
          3428083,
          323492,
          867025,
          6732522,
          223693,
          1842162,
          901580,
          264232,
          595404,
          183078,
          180759,
          264097,
          430606,
          1861463,
          497644,
          232698,
          2054445,
          953697,
          1457528,
          485622,
          648262,
          408410,
          903009,
          297323,
          584600,
          539309,
          7759771,
          299119,
          621179,
          84545955,
          971883,
          1948041,
          601282,
          7709656,
          702785,
          396765,
          9817731,
          165690,
          3918776,
          76330,
          591183,
          4188988,
          477703,
          388573,
          1177360,
          570973,
          3311813,
          663706,
          1493691,
          9807062,
          3459549,
          258703,
          534264,
          434889,
          594061,
          155452,
          7293155,
          3257856,
          5185762,
          1494777,
          928152,
          337404,
          569596,
          842215,
          680047,
          510133,
          1410460,
          311504,
          125858,
          1664115,
          2919386,
          190086,
          668186,
          406175,
          487828,
          687122,
          723473,
          515722,
          4673009,
          704236,
          229954,
          1506645,
          241915,
          222501,
          148132,
          100419,
          301704,
          141589,
          415739,
          143541,
          460346,
          620046,
          2267220,
          474843,
          414087
         ],
         "xaxis": "x",
         "yaxis": "y"
        },
        {
         "line": {
          "color": "blue"
         },
         "mode": "lines",
         "showlegend": false,
         "type": "scatter",
         "x": [
          3265097,
          2187447,
          1345577,
          1233545,
          715577,
          321486,
          1586633,
          1579111,
          1955356,
          1028205,
          44751816,
          524722,
          319115,
          366464,
          4121431,
          3217112,
          1446706,
          804904,
          18196672,
          597982,
          779597,
          950189,
          426731,
          493198,
          2257523,
          3503769,
          1297147,
          147529,
          1886775,
          993303,
          4165079,
          1474338,
          151141,
          225725,
          2529230,
          1103678,
          416921,
          74848,
          3117006,
          2852746,
          450368,
          188345,
          1055607,
          5782984,
          747623,
          3428083,
          323492,
          867025,
          6732522,
          223693,
          1842162,
          901580,
          264232,
          595404,
          183078,
          180759,
          264097,
          430606,
          1861463,
          497644,
          232698,
          2054445,
          953697,
          1457528,
          485622,
          648262,
          408410,
          903009,
          297323,
          584600,
          539309,
          7759771,
          299119,
          621179,
          84545955,
          971883,
          1948041,
          601282,
          7709656,
          702785,
          396765,
          9817731,
          165690,
          3918776,
          76330,
          591183,
          4188988,
          477703,
          388573,
          1177360,
          570973,
          3311813,
          663706,
          1493691,
          9807062,
          3459549,
          258703,
          534264,
          434889,
          594061,
          155452,
          7293155,
          3257856,
          5185762,
          1494777,
          928152,
          337404,
          569596,
          842215,
          680047,
          510133,
          1410460,
          311504,
          125858,
          1664115,
          2919386,
          190086,
          668186,
          406175,
          487828,
          687122,
          723473,
          515722,
          4673009,
          704236,
          229954,
          1506645,
          241915,
          222501,
          148132,
          100419,
          301704,
          141589,
          415739,
          143541,
          460346,
          620046,
          2267220,
          474843,
          414087
         ],
         "xaxis": "x",
         "yaxis": "y"
        },
        {
         "histnorm": "density",
         "marker": {
          "color": "green"
         },
         "name": "Like Count",
         "nbinsx": 30,
         "type": "histogram",
         "x": [
          353948,
          196446,
          36619,
          34425,
          19469,
          24928,
          107768,
          126179,
          82456,
          63599,
          1384244,
          7924,
          2947,
          8996,
          68895,
          129597,
          24140,
          7541,
          388084,
          39129,
          92140,
          32282,
          3166,
          25237,
          45996,
          194145,
          42241,
          8569,
          57777,
          100962,
          36250,
          23656,
          31629,
          3474,
          125913,
          16057,
          14685,
          794,
          189073,
          227016,
          7050,
          13447,
          21078,
          204885,
          11803,
          73805,
          33705,
          9131,
          137968,
          5655,
          128245,
          9011,
          11794,
          10279,
          1314,
          6957,
          9958,
          31085,
          62520,
          8244,
          2610,
          177217,
          11992,
          27672,
          0,
          35476,
          6384,
          12120,
          9381,
          18603,
          21928,
          313440,
          12161,
          25303,
          3454875,
          61740,
          138731,
          17949,
          146284,
          11506,
          5343,
          763265,
          3260,
          96701,
          1815,
          5850,
          403023,
          8907,
          4306,
          89789,
          7398,
          331061,
          9372,
          86061,
          184458,
          184389,
          13819,
          8156,
          66360,
          60316,
          8453,
          17005,
          212744,
          433837,
          27434,
          68535,
          4707,
          13450,
          9830,
          40887,
          8226,
          25005,
          4154,
          10128,
          156021,
          46398,
          4899,
          5672,
          6542,
          11405,
          30184,
          20708,
          44220,
          316701,
          42942,
          0,
          68387,
          4006,
          15622,
          2679,
          1360,
          18587,
          0,
          11996,
          11142,
          5778,
          13529,
          67533,
          4696,
          7337
         ],
         "xaxis": "x2",
         "yaxis": "y2"
        },
        {
         "line": {
          "color": "green"
         },
         "mode": "lines",
         "showlegend": false,
         "type": "scatter",
         "x": [
          353948,
          196446,
          36619,
          34425,
          19469,
          24928,
          107768,
          126179,
          82456,
          63599,
          1384244,
          7924,
          2947,
          8996,
          68895,
          129597,
          24140,
          7541,
          388084,
          39129,
          92140,
          32282,
          3166,
          25237,
          45996,
          194145,
          42241,
          8569,
          57777,
          100962,
          36250,
          23656,
          31629,
          3474,
          125913,
          16057,
          14685,
          794,
          189073,
          227016,
          7050,
          13447,
          21078,
          204885,
          11803,
          73805,
          33705,
          9131,
          137968,
          5655,
          128245,
          9011,
          11794,
          10279,
          1314,
          6957,
          9958,
          31085,
          62520,
          8244,
          2610,
          177217,
          11992,
          27672,
          0,
          35476,
          6384,
          12120,
          9381,
          18603,
          21928,
          313440,
          12161,
          25303,
          3454875,
          61740,
          138731,
          17949,
          146284,
          11506,
          5343,
          763265,
          3260,
          96701,
          1815,
          5850,
          403023,
          8907,
          4306,
          89789,
          7398,
          331061,
          9372,
          86061,
          184458,
          184389,
          13819,
          8156,
          66360,
          60316,
          8453,
          17005,
          212744,
          433837,
          27434,
          68535,
          4707,
          13450,
          9830,
          40887,
          8226,
          25005,
          4154,
          10128,
          156021,
          46398,
          4899,
          5672,
          6542,
          11405,
          30184,
          20708,
          44220,
          316701,
          42942,
          0,
          68387,
          4006,
          15622,
          2679,
          1360,
          18587,
          0,
          11996,
          11142,
          5778,
          13529,
          67533,
          4696,
          7337
         ],
         "xaxis": "x2",
         "yaxis": "y2"
        },
        {
         "histnorm": "density",
         "marker": {
          "color": "red"
         },
         "name": "Comment Count",
         "nbinsx": 30,
         "type": "histogram",
         "x": [
          10540,
          12445,
          1978,
          1970,
          944,
          2229,
          5621,
          3785,
          2660,
          3574,
          62611,
          45,
          90,
          467,
          1689,
          3561,
          266,
          560,
          20082,
          6100,
          2454,
          649,
          272,
          733,
          330,
          4396,
          3033,
          929,
          145,
          4498,
          3835,
          119,
          2504,
          241,
          2865,
          78,
          1027,
          59,
          4176,
          1509,
          365,
          1018,
          606,
          7505,
          153,
          5151,
          7166,
          50,
          2783,
          6,
          10806,
          40,
          652,
          269,
          111,
          254,
          185,
          1027,
          340,
          121,
          62,
          2175,
          455,
          900,
          828,
          1503,
          61,
          597,
          494,
          700,
          354,
          12376,
          1213,
          523,
          59888,
          2608,
          5148,
          834,
          3065,
          279,
          122,
          39220,
          72,
          1438,
          91,
          25,
          24577,
          314,
          58,
          3237,
          266,
          29702,
          161,
          2240,
          5367,
          4938,
          233,
          536,
          1722,
          1567,
          1009,
          529,
          18799,
          16241,
          1028,
          1443,
          208,
          525,
          337,
          1548,
          187,
          210,
          43,
          684,
          3869,
          784,
          116,
          82,
          65,
          401,
          2124,
          909,
          2135,
          9384,
          3542,
          525,
          1030,
          423,
          1129,
          171,
          379,
          2961,
          355,
          417,
          847,
          110,
          135,
          7726,
          19,
          137
         ],
         "xaxis": "x3",
         "yaxis": "y3"
        },
        {
         "line": {
          "color": "red"
         },
         "mode": "lines",
         "showlegend": false,
         "type": "scatter",
         "x": [
          10540,
          12445,
          1978,
          1970,
          944,
          2229,
          5621,
          3785,
          2660,
          3574,
          62611,
          45,
          90,
          467,
          1689,
          3561,
          266,
          560,
          20082,
          6100,
          2454,
          649,
          272,
          733,
          330,
          4396,
          3033,
          929,
          145,
          4498,
          3835,
          119,
          2504,
          241,
          2865,
          78,
          1027,
          59,
          4176,
          1509,
          365,
          1018,
          606,
          7505,
          153,
          5151,
          7166,
          50,
          2783,
          6,
          10806,
          40,
          652,
          269,
          111,
          254,
          185,
          1027,
          340,
          121,
          62,
          2175,
          455,
          900,
          828,
          1503,
          61,
          597,
          494,
          700,
          354,
          12376,
          1213,
          523,
          59888,
          2608,
          5148,
          834,
          3065,
          279,
          122,
          39220,
          72,
          1438,
          91,
          25,
          24577,
          314,
          58,
          3237,
          266,
          29702,
          161,
          2240,
          5367,
          4938,
          233,
          536,
          1722,
          1567,
          1009,
          529,
          18799,
          16241,
          1028,
          1443,
          208,
          525,
          337,
          1548,
          187,
          210,
          43,
          684,
          3869,
          784,
          116,
          82,
          65,
          401,
          2124,
          909,
          2135,
          9384,
          3542,
          525,
          1030,
          423,
          1129,
          171,
          379,
          2961,
          355,
          417,
          847,
          110,
          135,
          7726,
          19,
          137
         ],
         "xaxis": "x3",
         "yaxis": "y3"
        }
       ],
       "layout": {
        "annotations": [
         {
          "font": {
           "size": 16
          },
          "showarrow": false,
          "text": "View Count Distribution",
          "x": 0.14444444444444446,
          "xanchor": "center",
          "xref": "paper",
          "y": 1,
          "yanchor": "bottom",
          "yref": "paper"
         },
         {
          "font": {
           "size": 16
          },
          "showarrow": false,
          "text": "Like Count Distribution",
          "x": 0.5,
          "xanchor": "center",
          "xref": "paper",
          "y": 1,
          "yanchor": "bottom",
          "yref": "paper"
         },
         {
          "font": {
           "size": 16
          },
          "showarrow": false,
          "text": "Comment Count Distribution",
          "x": 0.8555555555555556,
          "xanchor": "center",
          "xref": "paper",
          "y": 1,
          "yanchor": "bottom",
          "yref": "paper"
         }
        ],
        "height": 500,
        "showlegend": false,
        "template": {
         "data": {
          "bar": [
           {
            "error_x": {
             "color": "#2a3f5f"
            },
            "error_y": {
             "color": "#2a3f5f"
            },
            "marker": {
             "line": {
              "color": "#E5ECF6",
              "width": 0.5
             },
             "pattern": {
              "fillmode": "overlay",
              "size": 10,
              "solidity": 0.2
             }
            },
            "type": "bar"
           }
          ],
          "barpolar": [
           {
            "marker": {
             "line": {
              "color": "#E5ECF6",
              "width": 0.5
             },
             "pattern": {
              "fillmode": "overlay",
              "size": 10,
              "solidity": 0.2
             }
            },
            "type": "barpolar"
           }
          ],
          "carpet": [
           {
            "aaxis": {
             "endlinecolor": "#2a3f5f",
             "gridcolor": "white",
             "linecolor": "white",
             "minorgridcolor": "white",
             "startlinecolor": "#2a3f5f"
            },
            "baxis": {
             "endlinecolor": "#2a3f5f",
             "gridcolor": "white",
             "linecolor": "white",
             "minorgridcolor": "white",
             "startlinecolor": "#2a3f5f"
            },
            "type": "carpet"
           }
          ],
          "choropleth": [
           {
            "colorbar": {
             "outlinewidth": 0,
             "ticks": ""
            },
            "type": "choropleth"
           }
          ],
          "contour": [
           {
            "colorbar": {
             "outlinewidth": 0,
             "ticks": ""
            },
            "colorscale": [
             [
              0,
              "#0d0887"
             ],
             [
              0.1111111111111111,
              "#46039f"
             ],
             [
              0.2222222222222222,
              "#7201a8"
             ],
             [
              0.3333333333333333,
              "#9c179e"
             ],
             [
              0.4444444444444444,
              "#bd3786"
             ],
             [
              0.5555555555555556,
              "#d8576b"
             ],
             [
              0.6666666666666666,
              "#ed7953"
             ],
             [
              0.7777777777777778,
              "#fb9f3a"
             ],
             [
              0.8888888888888888,
              "#fdca26"
             ],
             [
              1,
              "#f0f921"
             ]
            ],
            "type": "contour"
           }
          ],
          "contourcarpet": [
           {
            "colorbar": {
             "outlinewidth": 0,
             "ticks": ""
            },
            "type": "contourcarpet"
           }
          ],
          "heatmap": [
           {
            "colorbar": {
             "outlinewidth": 0,
             "ticks": ""
            },
            "colorscale": [
             [
              0,
              "#0d0887"
             ],
             [
              0.1111111111111111,
              "#46039f"
             ],
             [
              0.2222222222222222,
              "#7201a8"
             ],
             [
              0.3333333333333333,
              "#9c179e"
             ],
             [
              0.4444444444444444,
              "#bd3786"
             ],
             [
              0.5555555555555556,
              "#d8576b"
             ],
             [
              0.6666666666666666,
              "#ed7953"
             ],
             [
              0.7777777777777778,
              "#fb9f3a"
             ],
             [
              0.8888888888888888,
              "#fdca26"
             ],
             [
              1,
              "#f0f921"
             ]
            ],
            "type": "heatmap"
           }
          ],
          "heatmapgl": [
           {
            "colorbar": {
             "outlinewidth": 0,
             "ticks": ""
            },
            "colorscale": [
             [
              0,
              "#0d0887"
             ],
             [
              0.1111111111111111,
              "#46039f"
             ],
             [
              0.2222222222222222,
              "#7201a8"
             ],
             [
              0.3333333333333333,
              "#9c179e"
             ],
             [
              0.4444444444444444,
              "#bd3786"
             ],
             [
              0.5555555555555556,
              "#d8576b"
             ],
             [
              0.6666666666666666,
              "#ed7953"
             ],
             [
              0.7777777777777778,
              "#fb9f3a"
             ],
             [
              0.8888888888888888,
              "#fdca26"
             ],
             [
              1,
              "#f0f921"
             ]
            ],
            "type": "heatmapgl"
           }
          ],
          "histogram": [
           {
            "marker": {
             "pattern": {
              "fillmode": "overlay",
              "size": 10,
              "solidity": 0.2
             }
            },
            "type": "histogram"
           }
          ],
          "histogram2d": [
           {
            "colorbar": {
             "outlinewidth": 0,
             "ticks": ""
            },
            "colorscale": [
             [
              0,
              "#0d0887"
             ],
             [
              0.1111111111111111,
              "#46039f"
             ],
             [
              0.2222222222222222,
              "#7201a8"
             ],
             [
              0.3333333333333333,
              "#9c179e"
             ],
             [
              0.4444444444444444,
              "#bd3786"
             ],
             [
              0.5555555555555556,
              "#d8576b"
             ],
             [
              0.6666666666666666,
              "#ed7953"
             ],
             [
              0.7777777777777778,
              "#fb9f3a"
             ],
             [
              0.8888888888888888,
              "#fdca26"
             ],
             [
              1,
              "#f0f921"
             ]
            ],
            "type": "histogram2d"
           }
          ],
          "histogram2dcontour": [
           {
            "colorbar": {
             "outlinewidth": 0,
             "ticks": ""
            },
            "colorscale": [
             [
              0,
              "#0d0887"
             ],
             [
              0.1111111111111111,
              "#46039f"
             ],
             [
              0.2222222222222222,
              "#7201a8"
             ],
             [
              0.3333333333333333,
              "#9c179e"
             ],
             [
              0.4444444444444444,
              "#bd3786"
             ],
             [
              0.5555555555555556,
              "#d8576b"
             ],
             [
              0.6666666666666666,
              "#ed7953"
             ],
             [
              0.7777777777777778,
              "#fb9f3a"
             ],
             [
              0.8888888888888888,
              "#fdca26"
             ],
             [
              1,
              "#f0f921"
             ]
            ],
            "type": "histogram2dcontour"
           }
          ],
          "mesh3d": [
           {
            "colorbar": {
             "outlinewidth": 0,
             "ticks": ""
            },
            "type": "mesh3d"
           }
          ],
          "parcoords": [
           {
            "line": {
             "colorbar": {
              "outlinewidth": 0,
              "ticks": ""
             }
            },
            "type": "parcoords"
           }
          ],
          "pie": [
           {
            "automargin": true,
            "type": "pie"
           }
          ],
          "scatter": [
           {
            "fillpattern": {
             "fillmode": "overlay",
             "size": 10,
             "solidity": 0.2
            },
            "type": "scatter"
           }
          ],
          "scatter3d": [
           {
            "line": {
             "colorbar": {
              "outlinewidth": 0,
              "ticks": ""
             }
            },
            "marker": {
             "colorbar": {
              "outlinewidth": 0,
              "ticks": ""
             }
            },
            "type": "scatter3d"
           }
          ],
          "scattercarpet": [
           {
            "marker": {
             "colorbar": {
              "outlinewidth": 0,
              "ticks": ""
             }
            },
            "type": "scattercarpet"
           }
          ],
          "scattergeo": [
           {
            "marker": {
             "colorbar": {
              "outlinewidth": 0,
              "ticks": ""
             }
            },
            "type": "scattergeo"
           }
          ],
          "scattergl": [
           {
            "marker": {
             "colorbar": {
              "outlinewidth": 0,
              "ticks": ""
             }
            },
            "type": "scattergl"
           }
          ],
          "scattermapbox": [
           {
            "marker": {
             "colorbar": {
              "outlinewidth": 0,
              "ticks": ""
             }
            },
            "type": "scattermapbox"
           }
          ],
          "scatterpolar": [
           {
            "marker": {
             "colorbar": {
              "outlinewidth": 0,
              "ticks": ""
             }
            },
            "type": "scatterpolar"
           }
          ],
          "scatterpolargl": [
           {
            "marker": {
             "colorbar": {
              "outlinewidth": 0,
              "ticks": ""
             }
            },
            "type": "scatterpolargl"
           }
          ],
          "scatterternary": [
           {
            "marker": {
             "colorbar": {
              "outlinewidth": 0,
              "ticks": ""
             }
            },
            "type": "scatterternary"
           }
          ],
          "surface": [
           {
            "colorbar": {
             "outlinewidth": 0,
             "ticks": ""
            },
            "colorscale": [
             [
              0,
              "#0d0887"
             ],
             [
              0.1111111111111111,
              "#46039f"
             ],
             [
              0.2222222222222222,
              "#7201a8"
             ],
             [
              0.3333333333333333,
              "#9c179e"
             ],
             [
              0.4444444444444444,
              "#bd3786"
             ],
             [
              0.5555555555555556,
              "#d8576b"
             ],
             [
              0.6666666666666666,
              "#ed7953"
             ],
             [
              0.7777777777777778,
              "#fb9f3a"
             ],
             [
              0.8888888888888888,
              "#fdca26"
             ],
             [
              1,
              "#f0f921"
             ]
            ],
            "type": "surface"
           }
          ],
          "table": [
           {
            "cells": {
             "fill": {
              "color": "#EBF0F8"
             },
             "line": {
              "color": "white"
             }
            },
            "header": {
             "fill": {
              "color": "#C8D4E3"
             },
             "line": {
              "color": "white"
             }
            },
            "type": "table"
           }
          ]
         },
         "layout": {
          "annotationdefaults": {
           "arrowcolor": "#2a3f5f",
           "arrowhead": 0,
           "arrowwidth": 1
          },
          "autotypenumbers": "strict",
          "coloraxis": {
           "colorbar": {
            "outlinewidth": 0,
            "ticks": ""
           }
          },
          "colorscale": {
           "diverging": [
            [
             0,
             "#8e0152"
            ],
            [
             0.1,
             "#c51b7d"
            ],
            [
             0.2,
             "#de77ae"
            ],
            [
             0.3,
             "#f1b6da"
            ],
            [
             0.4,
             "#fde0ef"
            ],
            [
             0.5,
             "#f7f7f7"
            ],
            [
             0.6,
             "#e6f5d0"
            ],
            [
             0.7,
             "#b8e186"
            ],
            [
             0.8,
             "#7fbc41"
            ],
            [
             0.9,
             "#4d9221"
            ],
            [
             1,
             "#276419"
            ]
           ],
           "sequential": [
            [
             0,
             "#0d0887"
            ],
            [
             0.1111111111111111,
             "#46039f"
            ],
            [
             0.2222222222222222,
             "#7201a8"
            ],
            [
             0.3333333333333333,
             "#9c179e"
            ],
            [
             0.4444444444444444,
             "#bd3786"
            ],
            [
             0.5555555555555556,
             "#d8576b"
            ],
            [
             0.6666666666666666,
             "#ed7953"
            ],
            [
             0.7777777777777778,
             "#fb9f3a"
            ],
            [
             0.8888888888888888,
             "#fdca26"
            ],
            [
             1,
             "#f0f921"
            ]
           ],
           "sequentialminus": [
            [
             0,
             "#0d0887"
            ],
            [
             0.1111111111111111,
             "#46039f"
            ],
            [
             0.2222222222222222,
             "#7201a8"
            ],
            [
             0.3333333333333333,
             "#9c179e"
            ],
            [
             0.4444444444444444,
             "#bd3786"
            ],
            [
             0.5555555555555556,
             "#d8576b"
            ],
            [
             0.6666666666666666,
             "#ed7953"
            ],
            [
             0.7777777777777778,
             "#fb9f3a"
            ],
            [
             0.8888888888888888,
             "#fdca26"
            ],
            [
             1,
             "#f0f921"
            ]
           ]
          },
          "colorway": [
           "#636efa",
           "#EF553B",
           "#00cc96",
           "#ab63fa",
           "#FFA15A",
           "#19d3f3",
           "#FF6692",
           "#B6E880",
           "#FF97FF",
           "#FECB52"
          ],
          "font": {
           "color": "#2a3f5f"
          },
          "geo": {
           "bgcolor": "white",
           "lakecolor": "white",
           "landcolor": "#E5ECF6",
           "showlakes": true,
           "showland": true,
           "subunitcolor": "white"
          },
          "hoverlabel": {
           "align": "left"
          },
          "hovermode": "closest",
          "mapbox": {
           "style": "light"
          },
          "paper_bgcolor": "white",
          "plot_bgcolor": "#E5ECF6",
          "polar": {
           "angularaxis": {
            "gridcolor": "white",
            "linecolor": "white",
            "ticks": ""
           },
           "bgcolor": "#E5ECF6",
           "radialaxis": {
            "gridcolor": "white",
            "linecolor": "white",
            "ticks": ""
           }
          },
          "scene": {
           "xaxis": {
            "backgroundcolor": "#E5ECF6",
            "gridcolor": "white",
            "gridwidth": 2,
            "linecolor": "white",
            "showbackground": true,
            "ticks": "",
            "zerolinecolor": "white"
           },
           "yaxis": {
            "backgroundcolor": "#E5ECF6",
            "gridcolor": "white",
            "gridwidth": 2,
            "linecolor": "white",
            "showbackground": true,
            "ticks": "",
            "zerolinecolor": "white"
           },
           "zaxis": {
            "backgroundcolor": "#E5ECF6",
            "gridcolor": "white",
            "gridwidth": 2,
            "linecolor": "white",
            "showbackground": true,
            "ticks": "",
            "zerolinecolor": "white"
           }
          },
          "shapedefaults": {
           "line": {
            "color": "#2a3f5f"
           }
          },
          "ternary": {
           "aaxis": {
            "gridcolor": "white",
            "linecolor": "white",
            "ticks": ""
           },
           "baxis": {
            "gridcolor": "white",
            "linecolor": "white",
            "ticks": ""
           },
           "bgcolor": "#E5ECF6",
           "caxis": {
            "gridcolor": "white",
            "linecolor": "white",
            "ticks": ""
           }
          },
          "title": {
           "x": 0.05
          },
          "xaxis": {
           "automargin": true,
           "gridcolor": "white",
           "linecolor": "white",
           "ticks": "",
           "title": {
            "standoff": 15
           },
           "zerolinecolor": "white",
           "zerolinewidth": 2
          },
          "yaxis": {
           "automargin": true,
           "gridcolor": "white",
           "linecolor": "white",
           "ticks": "",
           "title": {
            "standoff": 15
           },
           "zerolinecolor": "white",
           "zerolinewidth": 2
          }
         }
        },
        "title": {
         "text": "Distributions of View Count, Like Count, and Comment Count"
        },
        "width": 1200,
        "xaxis": {
         "anchor": "y",
         "domain": [
          0,
          0.2888888888888889
         ],
         "title": {
          "text": "View Count"
         }
        },
        "xaxis2": {
         "anchor": "y2",
         "domain": [
          0.35555555555555557,
          0.6444444444444445
         ],
         "title": {
          "text": "Like Count"
         }
        },
        "xaxis3": {
         "anchor": "y3",
         "domain": [
          0.7111111111111111,
          1
         ],
         "title": {
          "text": "Comment Count"
         }
        },
        "yaxis": {
         "anchor": "x",
         "domain": [
          0,
          1
         ],
         "title": {
          "text": "Frequency"
         }
        },
        "yaxis2": {
         "anchor": "x2",
         "domain": [
          0,
          1
         ],
         "title": {
          "text": "Frequency"
         }
        },
        "yaxis3": {
         "anchor": "x3",
         "domain": [
          0,
          1
         ],
         "title": {
          "text": "Frequency"
         }
        }
       }
      }
     },
     "metadata": {},
     "output_type": "display_data"
    }
   ],
   "source": [
    "import plotly.express as px\n",
    "from plotly.subplots import make_subplots\n",
    "import plotly.graph_objects as go\n",
    "\n",
    "# Create a 1x3 subplot\n",
    "fig = make_subplots(rows=1, cols=3, subplot_titles=(\"View Count Distribution\", \"Like Count Distribution\", \"Comment Count Distribution\"))\n",
    "\n",
    "# View Count Distribution\n",
    "fig.add_trace(\n",
    "    go.Histogram(x=trending_videos['view_count'], nbinsx=30, marker_color='blue', name='View Count', histnorm='density'),\n",
    "    row=1, col=1\n",
    ")\n",
    "# Add KDE for View Count\n",
    "fig.add_trace(\n",
    "    go.Scatter(x=trending_videos['view_count'], y=px.histogram(trending_videos, x='view_count', nbins=30, histnorm='density').data[0]['y'], mode='lines', line=dict(color='blue'), showlegend=False),\n",
    "    row=1, col=1\n",
    ")\n",
    "\n",
    "# Like Count Distribution\n",
    "fig.add_trace(\n",
    "    go.Histogram(x=trending_videos['like_count'], nbinsx=30, marker_color='green', name='Like Count', histnorm='density'),\n",
    "    row=1, col=2\n",
    ")\n",
    "# Add KDE for Like Count\n",
    "fig.add_trace(\n",
    "    go.Scatter(x=trending_videos['like_count'], y=px.histogram(trending_videos, x='like_count', nbins=30, histnorm='density').data[0]['y'], mode='lines', line=dict(color='green'), showlegend=False),\n",
    "    row=1, col=2\n",
    ")\n",
    "\n",
    "# Comment Count Distribution\n",
    "fig.add_trace(\n",
    "    go.Histogram(x=trending_videos['comment_count'], nbinsx=30, marker_color='red', name='Comment Count', histnorm='density'),\n",
    "    row=1, col=3\n",
    ")\n",
    "# Add KDE for Comment Count\n",
    "fig.add_trace(\n",
    "    go.Scatter(x=trending_videos['comment_count'], y=px.histogram(trending_videos, x='comment_count', nbins=30, histnorm='density').data[0]['y'], mode='lines', line=dict(color='red'), showlegend=False),\n",
    "    row=1, col=3\n",
    ")\n",
    "\n",
    "# Update layout\n",
    "fig.update_layout(\n",
    "    title_text=\"Distributions of View Count, Like Count, and Comment Count\",\n",
    "    height=500, width=1200,\n",
    "    showlegend=False,\n",
    "    xaxis_title_text='Count', yaxis_title_text='Frequency',\n",
    ")\n",
    "\n",
    "# Update axis titles for each subplot\n",
    "fig.update_xaxes(title_text=\"View Count\", row=1, col=1)\n",
    "fig.update_xaxes(title_text=\"Like Count\", row=1, col=2)\n",
    "fig.update_xaxes(title_text=\"Comment Count\", row=1, col=3)\n",
    "\n",
    "fig.update_yaxes(title_text=\"Frequency\", row=1, col=1)\n",
    "fig.update_yaxes(title_text=\"Frequency\", row=1, col=2)\n",
    "fig.update_yaxes(title_text=\"Frequency\", row=1, col=3)\n",
    "\n",
    "fig.show()\n"
   ]
  },
  {
   "cell_type": "code",
   "execution_count": 7,
   "metadata": {},
   "outputs": [
    {
     "data": {
      "image/png": "[encoded data removed]",
      "text/plain": [
       "<Figure size 800x600 with 2 Axes>"
      ]
     },
     "metadata": {},
     "output_type": "display_data"
    }
   ],
   "source": [
    "import matplotlib.pyplot as plt\n",
    "import seaborn as sns\n",
    "# correlation matrix\n",
    "correlation_matrix = trending_videos[['view_count', 'like_count', 'comment_count']].corr()\n",
    "\n",
    "plt.figure(figsize=(8, 6))\n",
    "sns.heatmap(correlation_matrix, annot=True, cmap='coolwarm', linewidths=0.5, linecolor='black')\n",
    "plt.title('Correlation Matrix of Engagement Metrics')\n",
    "plt.show()"
   ]
  },
  {
   "cell_type": "code",
   "execution_count": 8,
   "metadata": {},
   "outputs": [
    {
     "name": "stdout",
     "output_type": "stream",
     "text": [
      "{1: 'Film & Animation', 2: 'Autos & Vehicles', 10: 'Music', 15: 'Pets & Animals', 17: 'Sports', 18: 'Short Movies', 19: 'Travel & Events', 20: 'Gaming', 21: 'Videoblogging', 22: 'People & Blogs', 23: 'Comedy', 24: 'Entertainment', 25: 'News & Politics', 26: 'Howto & Style', 27: 'Education', 28: 'Science & Technology', 30: 'Movies', 31: 'Anime/Animation', 32: 'Action/Adventure', 33: 'Classics', 34: 'Comedy', 35: 'Documentary', 36: 'Drama', 37: 'Family', 38: 'Foreign', 39: 'Horror', 40: 'Sci-Fi/Fantasy', 41: 'Thriller', 42: 'Shorts', 43: 'Shows', 44: 'Trailers'}\n"
     ]
    }
   ],
   "source": [
    "\n",
    "youtube = build('youtube', 'v3', developerKey=API_KEY)\n",
    "\n",
    "def get_category_mapping():\n",
    "    request = youtube.videoCategories().list(\n",
    "        part='snippet',\n",
    "        regionCode='IN'\n",
    "    )\n",
    "    response = request.execute()\n",
    "    category_mapping = {}\n",
    "    for item in response['items']:\n",
    "        category_id = int(item['id'])\n",
    "        category_name = item['snippet']['title']\n",
    "        category_mapping[category_id] = category_name\n",
    "    return category_mapping\n",
    "\n",
    "# get the category mapping\n",
    "category_mapping = get_category_mapping()\n",
    "print(category_mapping)"
   ]
  },
  {
   "cell_type": "code",
   "execution_count": 9,
   "metadata": {},
   "outputs": [
    {
     "data": {
      "application/vnd.plotly.v1+json": {
       "config": {
        "plotlyServerURL": "https://plot.ly"
       },
       "data": [
        {
         "alignmentgroup": "True",
         "hovertemplate": "category_name=%{y}<br>Number of Videos=%{x}<extra></extra>",
         "legendgroup": "Entertainment",
         "marker": {
          "color": "#440154",
          "pattern": {
           "shape": ""
          }
         },
         "name": "Entertainment",
         "offsetgroup": "Entertainment",
         "orientation": "h",
         "showlegend": true,
         "textposition": "auto",
         "type": "bar",
         "x": [
          62
         ],
         "xaxis": "x",
         "y": [
          "Entertainment"
         ],
         "yaxis": "y"
        },
        {
         "alignmentgroup": "True",
         "hovertemplate": "category_name=%{y}<br>Number of Videos=%{x}<extra></extra>",
         "legendgroup": "People & Blogs",
         "marker": {
          "color": "#482878",
          "pattern": {
           "shape": ""
          }
         },
         "name": "People & Blogs",
         "offsetgroup": "People & Blogs",
         "orientation": "h",
         "showlegend": true,
         "textposition": "auto",
         "type": "bar",
         "x": [
          22
         ],
         "xaxis": "x",
         "y": [
          "People & Blogs"
         ],
         "yaxis": "y"
        },
        {
         "alignmentgroup": "True",
         "hovertemplate": "category_name=%{y}<br>Number of Videos=%{x}<extra></extra>",
         "legendgroup": "Music",
         "marker": {
          "color": "#3e4989",
          "pattern": {
           "shape": ""
          }
         },
         "name": "Music",
         "offsetgroup": "Music",
         "orientation": "h",
         "showlegend": true,
         "textposition": "auto",
         "type": "bar",
         "x": [
          10
         ],
         "xaxis": "x",
         "y": [
          "Music"
         ],
         "yaxis": "y"
        },
        {
         "alignmentgroup": "True",
         "hovertemplate": "category_name=%{y}<br>Number of Videos=%{x}<extra></extra>",
         "legendgroup": "Gaming",
         "marker": {
          "color": "#31688e",
          "pattern": {
           "shape": ""
          }
         },
         "name": "Gaming",
         "offsetgroup": "Gaming",
         "orientation": "h",
         "showlegend": true,
         "textposition": "auto",
         "type": "bar",
         "x": [
          9
         ],
         "xaxis": "x",
         "y": [
          "Gaming"
         ],
         "yaxis": "y"
        },
        {
         "alignmentgroup": "True",
         "hovertemplate": "category_name=%{y}<br>Number of Videos=%{x}<extra></extra>",
         "legendgroup": "Education",
         "marker": {
          "color": "#26828e",
          "pattern": {
           "shape": ""
          }
         },
         "name": "Education",
         "offsetgroup": "Education",
         "orientation": "h",
         "showlegend": true,
         "textposition": "auto",
         "type": "bar",
         "x": [
          8
         ],
         "xaxis": "x",
         "y": [
          "Education"
         ],
         "yaxis": "y"
        },
        {
         "alignmentgroup": "True",
         "hovertemplate": "category_name=%{y}<br>Number of Videos=%{x}<extra></extra>",
         "legendgroup": "Film & Animation",
         "marker": {
          "color": "#1f9e89",
          "pattern": {
           "shape": ""
          }
         },
         "name": "Film & Animation",
         "offsetgroup": "Film & Animation",
         "orientation": "h",
         "showlegend": true,
         "textposition": "auto",
         "type": "bar",
         "x": [
          7
         ],
         "xaxis": "x",
         "y": [
          "Film & Animation"
         ],
         "yaxis": "y"
        },
        {
         "alignmentgroup": "True",
         "hovertemplate": "category_name=%{y}<br>Number of Videos=%{x}<extra></extra>",
         "legendgroup": "Comedy",
         "marker": {
          "color": "#35b779",
          "pattern": {
           "shape": ""
          }
         },
         "name": "Comedy",
         "offsetgroup": "Comedy",
         "orientation": "h",
         "showlegend": true,
         "textposition": "auto",
         "type": "bar",
         "x": [
          7
         ],
         "xaxis": "x",
         "y": [
          "Comedy"
         ],
         "yaxis": "y"
        },
        {
         "alignmentgroup": "True",
         "hovertemplate": "category_name=%{y}<br>Number of Videos=%{x}<extra></extra>",
         "legendgroup": "Science & Technology",
         "marker": {
          "color": "#6ece58",
          "pattern": {
           "shape": ""
          }
         },
         "name": "Science & Technology",
         "offsetgroup": "Science & Technology",
         "orientation": "h",
         "showlegend": true,
         "textposition": "auto",
         "type": "bar",
         "x": [
          5
         ],
         "xaxis": "x",
         "y": [
          "Science & Technology"
         ],
         "yaxis": "y"
        },
        {
         "alignmentgroup": "True",
         "hovertemplate": "category_name=%{y}<br>Number of Videos=%{x}<extra></extra>",
         "legendgroup": "News & Politics",
         "marker": {
          "color": "#b5de2b",
          "pattern": {
           "shape": ""
          }
         },
         "name": "News & Politics",
         "offsetgroup": "News & Politics",
         "orientation": "h",
         "showlegend": true,
         "textposition": "auto",
         "type": "bar",
         "x": [
          3
         ],
         "xaxis": "x",
         "y": [
          "News & Politics"
         ],
         "yaxis": "y"
        },
        {
         "alignmentgroup": "True",
         "hovertemplate": "category_name=%{y}<br>Number of Videos=%{x}<extra></extra>",
         "legendgroup": "Sports",
         "marker": {
          "color": "#fde725",
          "pattern": {
           "shape": ""
          }
         },
         "name": "Sports",
         "offsetgroup": "Sports",
         "orientation": "h",
         "showlegend": true,
         "textposition": "auto",
         "type": "bar",
         "x": [
          3
         ],
         "xaxis": "x",
         "y": [
          "Sports"
         ],
         "yaxis": "y"
        },
        {
         "alignmentgroup": "True",
         "hovertemplate": "category_name=%{y}<br>Number of Videos=%{x}<extra></extra>",
         "legendgroup": "Travel & Events",
         "marker": {
          "color": "#440154",
          "pattern": {
           "shape": ""
          }
         },
         "name": "Travel & Events",
         "offsetgroup": "Travel & Events",
         "orientation": "h",
         "showlegend": true,
         "textposition": "auto",
         "type": "bar",
         "x": [
          3
         ],
         "xaxis": "x",
         "y": [
          "Travel & Events"
         ],
         "yaxis": "y"
        },
        {
         "alignmentgroup": "True",
         "hovertemplate": "category_name=%{y}<br>Number of Videos=%{x}<extra></extra>",
         "legendgroup": "Howto & Style",
         "marker": {
          "color": "#482878",
          "pattern": {
           "shape": ""
          }
         },
         "name": "Howto & Style",
         "offsetgroup": "Howto & Style",
         "orientation": "h",
         "showlegend": true,
         "textposition": "auto",
         "type": "bar",
         "x": [
          1
         ],
         "xaxis": "x",
         "y": [
          "Howto & Style"
         ],
         "yaxis": "y"
        }
       ],
       "layout": {
        "barmode": "relative",
        "height": 600,
        "legend": {
         "title": {
          "text": "category_name"
         },
         "tracegroupgap": 0
        },
        "template": {
         "data": {
          "bar": [
           {
            "error_x": {
             "color": "#2a3f5f"
            },
            "error_y": {
             "color": "#2a3f5f"
            },
            "marker": {
             "line": {
              "color": "#E5ECF6",
              "width": 0.5
             },
             "pattern": {
              "fillmode": "overlay",
              "size": 10,
              "solidity": 0.2
             }
            },
            "type": "bar"
           }
          ],
          "barpolar": [
           {
            "marker": {
             "line": {
              "color": "#E5ECF6",
              "width": 0.5
             },
             "pattern": {
              "fillmode": "overlay",
              "size": 10,
              "solidity": 0.2
             }
            },
            "type": "barpolar"
           }
          ],
          "carpet": [
           {
            "aaxis": {
             "endlinecolor": "#2a3f5f",
             "gridcolor": "white",
             "linecolor": "white",
             "minorgridcolor": "white",
             "startlinecolor": "#2a3f5f"
            },
            "baxis": {
             "endlinecolor": "#2a3f5f",
             "gridcolor": "white",
             "linecolor": "white",
             "minorgridcolor": "white",
             "startlinecolor": "#2a3f5f"
            },
            "type": "carpet"
           }
          ],
          "choropleth": [
           {
            "colorbar": {
             "outlinewidth": 0,
             "ticks": ""
            },
            "type": "choropleth"
           }
          ],
          "contour": [
           {
            "colorbar": {
             "outlinewidth": 0,
             "ticks": ""
            },
            "colorscale": [
             [
              0,
              "#0d0887"
             ],
             [
              0.1111111111111111,
              "#46039f"
             ],
             [
              0.2222222222222222,
              "#7201a8"
             ],
             [
              0.3333333333333333,
              "#9c179e"
             ],
             [
              0.4444444444444444,
              "#bd3786"
             ],
             [
              0.5555555555555556,
              "#d8576b"
             ],
             [
              0.6666666666666666,
              "#ed7953"
             ],
             [
              0.7777777777777778,
              "#fb9f3a"
             ],
             [
              0.8888888888888888,
              "#fdca26"
             ],
             [
              1,
              "#f0f921"
             ]
            ],
            "type": "contour"
           }
          ],
          "contourcarpet": [
           {
            "colorbar": {
             "outlinewidth": 0,
             "ticks": ""
            },
            "type": "contourcarpet"
           }
          ],
          "heatmap": [
           {
            "colorbar": {
             "outlinewidth": 0,
             "ticks": ""
            },
            "colorscale": [
             [
              0,
              "#0d0887"
             ],
             [
              0.1111111111111111,
              "#46039f"
             ],
             [
              0.2222222222222222,
              "#7201a8"
             ],
             [
              0.3333333333333333,
              "#9c179e"
             ],
             [
              0.4444444444444444,
              "#bd3786"
             ],
             [
              0.5555555555555556,
              "#d8576b"
             ],
             [
              0.6666666666666666,
              "#ed7953"
             ],
             [
              0.7777777777777778,
              "#fb9f3a"
             ],
             [
              0.8888888888888888,
              "#fdca26"
             ],
             [
              1,
              "#f0f921"
             ]
            ],
            "type": "heatmap"
           }
          ],
          "heatmapgl": [
           {
            "colorbar": {
             "outlinewidth": 0,
             "ticks": ""
            },
            "colorscale": [
             [
              0,
              "#0d0887"
             ],
             [
              0.1111111111111111,
              "#46039f"
             ],
             [
              0.2222222222222222,
              "#7201a8"
             ],
             [
              0.3333333333333333,
              "#9c179e"
             ],
             [
              0.4444444444444444,
              "#bd3786"
             ],
             [
              0.5555555555555556,
              "#d8576b"
             ],
             [
              0.6666666666666666,
              "#ed7953"
             ],
             [
              0.7777777777777778,
              "#fb9f3a"
             ],
             [
              0.8888888888888888,
              "#fdca26"
             ],
             [
              1,
              "#f0f921"
             ]
            ],
            "type": "heatmapgl"
           }
          ],
          "histogram": [
           {
            "marker": {
             "pattern": {
              "fillmode": "overlay",
              "size": 10,
              "solidity": 0.2
             }
            },
            "type": "histogram"
           }
          ],
          "histogram2d": [
           {
            "colorbar": {
             "outlinewidth": 0,
             "ticks": ""
            },
            "colorscale": [
             [
              0,
              "#0d0887"
             ],
             [
              0.1111111111111111,
              "#46039f"
             ],
             [
              0.2222222222222222,
              "#7201a8"
             ],
             [
              0.3333333333333333,
              "#9c179e"
             ],
             [
              0.4444444444444444,
              "#bd3786"
             ],
             [
              0.5555555555555556,
              "#d8576b"
             ],
             [
              0.6666666666666666,
              "#ed7953"
             ],
             [
              0.7777777777777778,
              "#fb9f3a"
             ],
             [
              0.8888888888888888,
              "#fdca26"
             ],
             [
              1,
              "#f0f921"
             ]
            ],
            "type": "histogram2d"
           }
          ],
          "histogram2dcontour": [
           {
            "colorbar": {
             "outlinewidth": 0,
             "ticks": ""
            },
            "colorscale": [
             [
              0,
              "#0d0887"
             ],
             [
              0.1111111111111111,
              "#46039f"
             ],
             [
              0.2222222222222222,
              "#7201a8"
             ],
             [
              0.3333333333333333,
              "#9c179e"
             ],
             [
              0.4444444444444444,
              "#bd3786"
             ],
             [
              0.5555555555555556,
              "#d8576b"
             ],
             [
              0.6666666666666666,
              "#ed7953"
             ],
             [
              0.7777777777777778,
              "#fb9f3a"
             ],
             [
              0.8888888888888888,
              "#fdca26"
             ],
             [
              1,
              "#f0f921"
             ]
            ],
            "type": "histogram2dcontour"
           }
          ],
          "mesh3d": [
           {
            "colorbar": {
             "outlinewidth": 0,
             "ticks": ""
            },
            "type": "mesh3d"
           }
          ],
          "parcoords": [
           {
            "line": {
             "colorbar": {
              "outlinewidth": 0,
              "ticks": ""
             }
            },
            "type": "parcoords"
           }
          ],
          "pie": [
           {
            "automargin": true,
            "type": "pie"
           }
          ],
          "scatter": [
           {
            "fillpattern": {
             "fillmode": "overlay",
             "size": 10,
             "solidity": 0.2
            },
            "type": "scatter"
           }
          ],
          "scatter3d": [
           {
            "line": {
             "colorbar": {
              "outlinewidth": 0,
              "ticks": ""
             }
            },
            "marker": {
             "colorbar": {
              "outlinewidth": 0,
              "ticks": ""
             }
            },
            "type": "scatter3d"
           }
          ],
          "scattercarpet": [
           {
            "marker": {
             "colorbar": {
              "outlinewidth": 0,
              "ticks": ""
             }
            },
            "type": "scattercarpet"
           }
          ],
          "scattergeo": [
           {
            "marker": {
             "colorbar": {
              "outlinewidth": 0,
              "ticks": ""
             }
            },
            "type": "scattergeo"
           }
          ],
          "scattergl": [
           {
            "marker": {
             "colorbar": {
              "outlinewidth": 0,
              "ticks": ""
             }
            },
            "type": "scattergl"
           }
          ],
          "scattermapbox": [
           {
            "marker": {
             "colorbar": {
              "outlinewidth": 0,
              "ticks": ""
             }
            },
            "type": "scattermapbox"
           }
          ],
          "scatterpolar": [
           {
            "marker": {
             "colorbar": {
              "outlinewidth": 0,
              "ticks": ""
             }
            },
            "type": "scatterpolar"
           }
          ],
          "scatterpolargl": [
           {
            "marker": {
             "colorbar": {
              "outlinewidth": 0,
              "ticks": ""
             }
            },
            "type": "scatterpolargl"
           }
          ],
          "scatterternary": [
           {
            "marker": {
             "colorbar": {
              "outlinewidth": 0,
              "ticks": ""
             }
            },
            "type": "scatterternary"
           }
          ],
          "surface": [
           {
            "colorbar": {
             "outlinewidth": 0,
             "ticks": ""
            },
            "colorscale": [
             [
              0,
              "#0d0887"
             ],
             [
              0.1111111111111111,
              "#46039f"
             ],
             [
              0.2222222222222222,
              "#7201a8"
             ],
             [
              0.3333333333333333,
              "#9c179e"
             ],
             [
              0.4444444444444444,
              "#bd3786"
             ],
             [
              0.5555555555555556,
              "#d8576b"
             ],
             [
              0.6666666666666666,
              "#ed7953"
             ],
             [
              0.7777777777777778,
              "#fb9f3a"
             ],
             [
              0.8888888888888888,
              "#fdca26"
             ],
             [
              1,
              "#f0f921"
             ]
            ],
            "type": "surface"
           }
          ],
          "table": [
           {
            "cells": {
             "fill": {
              "color": "#EBF0F8"
             },
             "line": {
              "color": "white"
             }
            },
            "header": {
             "fill": {
              "color": "#C8D4E3"
             },
             "line": {
              "color": "white"
             }
            },
            "type": "table"
           }
          ]
         },
         "layout": {
          "annotationdefaults": {
           "arrowcolor": "#2a3f5f",
           "arrowhead": 0,
           "arrowwidth": 1
          },
          "autotypenumbers": "strict",
          "coloraxis": {
           "colorbar": {
            "outlinewidth": 0,
            "ticks": ""
           }
          },
          "colorscale": {
           "diverging": [
            [
             0,
             "#8e0152"
            ],
            [
             0.1,
             "#c51b7d"
            ],
            [
             0.2,
             "#de77ae"
            ],
            [
             0.3,
             "#f1b6da"
            ],
            [
             0.4,
             "#fde0ef"
            ],
            [
             0.5,
             "#f7f7f7"
            ],
            [
             0.6,
             "#e6f5d0"
            ],
            [
             0.7,
             "#b8e186"
            ],
            [
             0.8,
             "#7fbc41"
            ],
            [
             0.9,
             "#4d9221"
            ],
            [
             1,
             "#276419"
            ]
           ],
           "sequential": [
            [
             0,
             "#0d0887"
            ],
            [
             0.1111111111111111,
             "#46039f"
            ],
            [
             0.2222222222222222,
             "#7201a8"
            ],
            [
             0.3333333333333333,
             "#9c179e"
            ],
            [
             0.4444444444444444,
             "#bd3786"
            ],
            [
             0.5555555555555556,
             "#d8576b"
            ],
            [
             0.6666666666666666,
             "#ed7953"
            ],
            [
             0.7777777777777778,
             "#fb9f3a"
            ],
            [
             0.8888888888888888,
             "#fdca26"
            ],
            [
             1,
             "#f0f921"
            ]
           ],
           "sequentialminus": [
            [
             0,
             "#0d0887"
            ],
            [
             0.1111111111111111,
             "#46039f"
            ],
            [
             0.2222222222222222,
             "#7201a8"
            ],
            [
             0.3333333333333333,
             "#9c179e"
            ],
            [
             0.4444444444444444,
             "#bd3786"
            ],
            [
             0.5555555555555556,
             "#d8576b"
            ],
            [
             0.6666666666666666,
             "#ed7953"
            ],
            [
             0.7777777777777778,
             "#fb9f3a"
            ],
            [
             0.8888888888888888,
             "#fdca26"
            ],
            [
             1,
             "#f0f921"
            ]
           ]
          },
          "colorway": [
           "#636efa",
           "#EF553B",
           "#00cc96",
           "#ab63fa",
           "#FFA15A",
           "#19d3f3",
           "#FF6692",
           "#B6E880",
           "#FF97FF",
           "#FECB52"
          ],
          "font": {
           "color": "#2a3f5f"
          },
          "geo": {
           "bgcolor": "white",
           "lakecolor": "white",
           "landcolor": "#E5ECF6",
           "showlakes": true,
           "showland": true,
           "subunitcolor": "white"
          },
          "hoverlabel": {
           "align": "left"
          },
          "hovermode": "closest",
          "mapbox": {
           "style": "light"
          },
          "paper_bgcolor": "white",
          "plot_bgcolor": "#E5ECF6",
          "polar": {
           "angularaxis": {
            "gridcolor": "white",
            "linecolor": "white",
            "ticks": ""
           },
           "bgcolor": "#E5ECF6",
           "radialaxis": {
            "gridcolor": "white",
            "linecolor": "white",
            "ticks": ""
           }
          },
          "scene": {
           "xaxis": {
            "backgroundcolor": "#E5ECF6",
            "gridcolor": "white",
            "gridwidth": 2,
            "linecolor": "white",
            "showbackground": true,
            "ticks": "",
            "zerolinecolor": "white"
           },
           "yaxis": {
            "backgroundcolor": "#E5ECF6",
            "gridcolor": "white",
            "gridwidth": 2,
            "linecolor": "white",
            "showbackground": true,
            "ticks": "",
            "zerolinecolor": "white"
           },
           "zaxis": {
            "backgroundcolor": "#E5ECF6",
            "gridcolor": "white",
            "gridwidth": 2,
            "linecolor": "white",
            "showbackground": true,
            "ticks": "",
            "zerolinecolor": "white"
           }
          },
          "shapedefaults": {
           "line": {
            "color": "#2a3f5f"
           }
          },
          "ternary": {
           "aaxis": {
            "gridcolor": "white",
            "linecolor": "white",
            "ticks": ""
           },
           "baxis": {
            "gridcolor": "white",
            "linecolor": "white",
            "ticks": ""
           },
           "bgcolor": "#E5ECF6",
           "caxis": {
            "gridcolor": "white",
            "linecolor": "white",
            "ticks": ""
           }
          },
          "title": {
           "x": 0.05
          },
          "xaxis": {
           "automargin": true,
           "gridcolor": "white",
           "linecolor": "white",
           "ticks": "",
           "title": {
            "standoff": 15
           },
           "zerolinecolor": "white",
           "zerolinewidth": 2
          },
          "yaxis": {
           "automargin": true,
           "gridcolor": "white",
           "linecolor": "white",
           "ticks": "",
           "title": {
            "standoff": 15
           },
           "zerolinecolor": "white",
           "zerolinewidth": 2
          }
         }
        },
        "title": {
         "text": "Number of Trending Videos by Category"
        },
        "width": 800,
        "xaxis": {
         "anchor": "y",
         "domain": [
          0,
          1
         ],
         "title": {
          "text": "Number of Videos"
         }
        },
        "yaxis": {
         "anchor": "x",
         "categoryarray": [
          "Howto & Style",
          "Travel & Events",
          "Sports",
          "News & Politics",
          "Science & Technology",
          "Comedy",
          "Film & Animation",
          "Education",
          "Gaming",
          "Music",
          "People & Blogs",
          "Entertainment"
         ],
         "categoryorder": "total ascending",
         "domain": [
          0,
          1
         ],
         "title": {
          "text": "Category"
         }
        }
       }
      }
     },
     "metadata": {},
     "output_type": "display_data"
    }
   ],
   "source": [
    "# Map category_id to category_name\n",
    "trending_videos['category_name'] = trending_videos['category_id'].map(category_mapping)\n",
    "\n",
    "# Create a bar chart for category counts\n",
    "category_counts = trending_videos['category_name'].value_counts()\n",
    "\n",
    "fig = px.bar(\n",
    "    category_counts,\n",
    "    x=category_counts.values,\n",
    "    y=category_counts.index,\n",
    "    orientation='h',\n",
    "    color=category_counts.index,\n",
    "    color_discrete_sequence=px.colors.sequential.Viridis,\n",
    "    labels={'x': 'Number of Videos', 'y': 'Category'},\n",
    "    title='Number of Trending Videos by Category',\n",
    ")\n",
    "\n",
    "# Update layout for better appearance\n",
    "fig.update_layout(\n",
    "    xaxis_title=\"Number of Videos\",\n",
    "    yaxis_title=\"Category\",\n",
    "    yaxis=dict(categoryorder='total ascending'),\n",
    "    width=800, height=600\n",
    ")\n",
    "\n",
    "fig.show()\n"
   ]
  },
  {
   "cell_type": "code",
   "execution_count": null,
   "metadata": {},
   "outputs": [],
   "source": []
  }
 ],
 "metadata": {
  "kernelspec": {
   "display_name": "Python 3",
   "language": "python",
   "name": "python3"
  },
  "language_info": {
   "codemirror_mode": {
    "name": "ipython",
    "version": 3
   },
   "file_extension": ".py",
   "mimetype": "text/x-python",
   "name": "python",
   "nbconvert_exporter": "python",
   "pygments_lexer": "ipython3",
   "version": "3.11.7"
  }
 },
 "nbformat": 4,
 "nbformat_minor": 2
}
